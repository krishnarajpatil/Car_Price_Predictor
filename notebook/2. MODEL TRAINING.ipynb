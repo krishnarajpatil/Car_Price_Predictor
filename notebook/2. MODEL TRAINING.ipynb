{
 "cells": [
  {
   "attachments": {},
   "cell_type": "markdown",
   "metadata": {},
   "source": [
    "# MODEL TRAINING"
   ]
  },
  {
   "attachments": {},
   "cell_type": "markdown",
   "metadata": {},
   "source": [
    "## 1. Importing data and required packages"
   ]
  },
  {
   "attachments": {},
   "cell_type": "markdown",
   "metadata": {},
   "source": [
    "#### 1.1 import modeules"
   ]
  },
  {
   "cell_type": "code",
   "execution_count": 1,
   "metadata": {},
   "outputs": [],
   "source": [
    "# Basic import\n",
    "import numpy as np\n",
    "import pandas as pd\n",
    "import matplotlib.pyplot as plt \n",
    "import seaborn as sns\n",
    "\n",
    "# Modelling\n",
    "from sklearn.linear_model import LinearRegression, Ridge, Lasso\n",
    "from sklearn.neighbors import KNeighborsRegressor\n",
    "from sklearn.tree import DecisionTreeRegressor\n",
    "from sklearn.ensemble import RandomForestRegressor, AdaBoostRegressor\n",
    "from sklearn.metrics import r2_score\n",
    "from catboost import CatBoostRegressor\n",
    "from xgboost import XGBRegressor\n",
    "\n",
    "# Column Transformers\n",
    "from sklearn.preprocessing import OneHotEncoder\n",
    "from sklearn.compose import make_column_transformer\n",
    "from sklearn.pipeline import make_pipeline\n",
    "\n",
    "# separate dataset into train & test\n",
    "from sklearn.model_selection import train_test_split"
   ]
  },
  {
   "attachments": {},
   "cell_type": "markdown",
   "metadata": {},
   "source": [
    "#### 1.2 import cleaned data as pandas dataframe"
   ]
  },
  {
   "cell_type": "code",
   "execution_count": 2,
   "metadata": {},
   "outputs": [],
   "source": [
    "car_data = pd.read_csv('data/cleaned_car_data.csv', index_col=0)"
   ]
  },
  {
   "cell_type": "code",
   "execution_count": 3,
   "metadata": {},
   "outputs": [
    {
     "data": {
      "text/html": [
       "<div>\n",
       "<style scoped>\n",
       "    .dataframe tbody tr th:only-of-type {\n",
       "        vertical-align: middle;\n",
       "    }\n",
       "\n",
       "    .dataframe tbody tr th {\n",
       "        vertical-align: top;\n",
       "    }\n",
       "\n",
       "    .dataframe thead th {\n",
       "        text-align: right;\n",
       "    }\n",
       "</style>\n",
       "<table border=\"1\" class=\"dataframe\">\n",
       "  <thead>\n",
       "    <tr style=\"text-align: right;\">\n",
       "      <th></th>\n",
       "      <th>name</th>\n",
       "      <th>company</th>\n",
       "      <th>year</th>\n",
       "      <th>Price</th>\n",
       "      <th>kms_driven</th>\n",
       "      <th>fuel_type</th>\n",
       "    </tr>\n",
       "  </thead>\n",
       "  <tbody>\n",
       "    <tr>\n",
       "      <th>0</th>\n",
       "      <td>Hyundai Santro Xing</td>\n",
       "      <td>Hyundai</td>\n",
       "      <td>2007</td>\n",
       "      <td>80000</td>\n",
       "      <td>45000</td>\n",
       "      <td>Petrol</td>\n",
       "    </tr>\n",
       "    <tr>\n",
       "      <th>1</th>\n",
       "      <td>Mahindra Jeep CL550</td>\n",
       "      <td>Mahindra</td>\n",
       "      <td>2006</td>\n",
       "      <td>425000</td>\n",
       "      <td>40</td>\n",
       "      <td>Diesel</td>\n",
       "    </tr>\n",
       "    <tr>\n",
       "      <th>2</th>\n",
       "      <td>Hyundai Grand i10</td>\n",
       "      <td>Hyundai</td>\n",
       "      <td>2014</td>\n",
       "      <td>325000</td>\n",
       "      <td>28000</td>\n",
       "      <td>Petrol</td>\n",
       "    </tr>\n",
       "    <tr>\n",
       "      <th>3</th>\n",
       "      <td>Ford EcoSport Titanium</td>\n",
       "      <td>Ford</td>\n",
       "      <td>2014</td>\n",
       "      <td>575000</td>\n",
       "      <td>36000</td>\n",
       "      <td>Diesel</td>\n",
       "    </tr>\n",
       "    <tr>\n",
       "      <th>4</th>\n",
       "      <td>Ford Figo</td>\n",
       "      <td>Ford</td>\n",
       "      <td>2012</td>\n",
       "      <td>175000</td>\n",
       "      <td>41000</td>\n",
       "      <td>Diesel</td>\n",
       "    </tr>\n",
       "    <tr>\n",
       "      <th>...</th>\n",
       "      <td>...</td>\n",
       "      <td>...</td>\n",
       "      <td>...</td>\n",
       "      <td>...</td>\n",
       "      <td>...</td>\n",
       "      <td>...</td>\n",
       "    </tr>\n",
       "    <tr>\n",
       "      <th>810</th>\n",
       "      <td>Maruti Suzuki Ritz</td>\n",
       "      <td>Maruti</td>\n",
       "      <td>2011</td>\n",
       "      <td>270000</td>\n",
       "      <td>50000</td>\n",
       "      <td>Petrol</td>\n",
       "    </tr>\n",
       "    <tr>\n",
       "      <th>811</th>\n",
       "      <td>Tata Indica V2</td>\n",
       "      <td>Tata</td>\n",
       "      <td>2009</td>\n",
       "      <td>110000</td>\n",
       "      <td>30000</td>\n",
       "      <td>Diesel</td>\n",
       "    </tr>\n",
       "    <tr>\n",
       "      <th>812</th>\n",
       "      <td>Toyota Corolla Altis</td>\n",
       "      <td>Toyota</td>\n",
       "      <td>2009</td>\n",
       "      <td>300000</td>\n",
       "      <td>132000</td>\n",
       "      <td>Petrol</td>\n",
       "    </tr>\n",
       "    <tr>\n",
       "      <th>813</th>\n",
       "      <td>Tata Zest XM</td>\n",
       "      <td>Tata</td>\n",
       "      <td>2018</td>\n",
       "      <td>260000</td>\n",
       "      <td>27000</td>\n",
       "      <td>Diesel</td>\n",
       "    </tr>\n",
       "    <tr>\n",
       "      <th>814</th>\n",
       "      <td>Mahindra Quanto C8</td>\n",
       "      <td>Mahindra</td>\n",
       "      <td>2013</td>\n",
       "      <td>390000</td>\n",
       "      <td>40000</td>\n",
       "      <td>Diesel</td>\n",
       "    </tr>\n",
       "  </tbody>\n",
       "</table>\n",
       "<p>815 rows × 6 columns</p>\n",
       "</div>"
      ],
      "text/plain": [
       "                       name   company  year   Price  kms_driven fuel_type\n",
       "0       Hyundai Santro Xing   Hyundai  2007   80000       45000    Petrol\n",
       "1       Mahindra Jeep CL550  Mahindra  2006  425000          40    Diesel\n",
       "2         Hyundai Grand i10   Hyundai  2014  325000       28000    Petrol\n",
       "3    Ford EcoSport Titanium      Ford  2014  575000       36000    Diesel\n",
       "4                 Ford Figo      Ford  2012  175000       41000    Diesel\n",
       "..                      ...       ...   ...     ...         ...       ...\n",
       "810      Maruti Suzuki Ritz    Maruti  2011  270000       50000    Petrol\n",
       "811          Tata Indica V2      Tata  2009  110000       30000    Diesel\n",
       "812    Toyota Corolla Altis    Toyota  2009  300000      132000    Petrol\n",
       "813            Tata Zest XM      Tata  2018  260000       27000    Diesel\n",
       "814      Mahindra Quanto C8  Mahindra  2013  390000       40000    Diesel\n",
       "\n",
       "[815 rows x 6 columns]"
      ]
     },
     "execution_count": 3,
     "metadata": {},
     "output_type": "execute_result"
    }
   ],
   "source": [
    "car_data"
   ]
  },
  {
   "cell_type": "code",
   "execution_count": 4,
   "metadata": {},
   "outputs": [
    {
     "name": "stdout",
     "output_type": "stream",
     "text": [
      "<class 'pandas.core.frame.DataFrame'>\n",
      "Index: 815 entries, 0 to 814\n",
      "Data columns (total 6 columns):\n",
      " #   Column      Non-Null Count  Dtype \n",
      "---  ------      --------------  ----- \n",
      " 0   name        815 non-null    object\n",
      " 1   company     815 non-null    object\n",
      " 2   year        815 non-null    int64 \n",
      " 3   Price       815 non-null    int64 \n",
      " 4   kms_driven  815 non-null    int64 \n",
      " 5   fuel_type   815 non-null    object\n",
      "dtypes: int64(3), object(3)\n",
      "memory usage: 44.6+ KB\n"
     ]
    }
   ],
   "source": [
    "car_data.info()"
   ]
  },
  {
   "attachments": {},
   "cell_type": "markdown",
   "metadata": {},
   "source": [
    "## 2. Preparation of Model Calculation"
   ]
  },
  {
   "attachments": {},
   "cell_type": "markdown",
   "metadata": {},
   "source": [
    "#### 2.1 Preparing x & y variables"
   ]
  },
  {
   "cell_type": "code",
   "execution_count": 5,
   "metadata": {},
   "outputs": [],
   "source": [
    "x = car_data.drop(columns=['Price'], axis=1)\n",
    "y = car_data['Price']"
   ]
  },
  {
   "cell_type": "code",
   "execution_count": 6,
   "metadata": {},
   "outputs": [
    {
     "data": {
      "text/html": [
       "<div>\n",
       "<style scoped>\n",
       "    .dataframe tbody tr th:only-of-type {\n",
       "        vertical-align: middle;\n",
       "    }\n",
       "\n",
       "    .dataframe tbody tr th {\n",
       "        vertical-align: top;\n",
       "    }\n",
       "\n",
       "    .dataframe thead th {\n",
       "        text-align: right;\n",
       "    }\n",
       "</style>\n",
       "<table border=\"1\" class=\"dataframe\">\n",
       "  <thead>\n",
       "    <tr style=\"text-align: right;\">\n",
       "      <th></th>\n",
       "      <th>name</th>\n",
       "      <th>company</th>\n",
       "      <th>year</th>\n",
       "      <th>kms_driven</th>\n",
       "      <th>fuel_type</th>\n",
       "    </tr>\n",
       "  </thead>\n",
       "  <tbody>\n",
       "    <tr>\n",
       "      <th>0</th>\n",
       "      <td>Hyundai Santro Xing</td>\n",
       "      <td>Hyundai</td>\n",
       "      <td>2007</td>\n",
       "      <td>45000</td>\n",
       "      <td>Petrol</td>\n",
       "    </tr>\n",
       "    <tr>\n",
       "      <th>1</th>\n",
       "      <td>Mahindra Jeep CL550</td>\n",
       "      <td>Mahindra</td>\n",
       "      <td>2006</td>\n",
       "      <td>40</td>\n",
       "      <td>Diesel</td>\n",
       "    </tr>\n",
       "    <tr>\n",
       "      <th>2</th>\n",
       "      <td>Hyundai Grand i10</td>\n",
       "      <td>Hyundai</td>\n",
       "      <td>2014</td>\n",
       "      <td>28000</td>\n",
       "      <td>Petrol</td>\n",
       "    </tr>\n",
       "    <tr>\n",
       "      <th>3</th>\n",
       "      <td>Ford EcoSport Titanium</td>\n",
       "      <td>Ford</td>\n",
       "      <td>2014</td>\n",
       "      <td>36000</td>\n",
       "      <td>Diesel</td>\n",
       "    </tr>\n",
       "    <tr>\n",
       "      <th>4</th>\n",
       "      <td>Ford Figo</td>\n",
       "      <td>Ford</td>\n",
       "      <td>2012</td>\n",
       "      <td>41000</td>\n",
       "      <td>Diesel</td>\n",
       "    </tr>\n",
       "  </tbody>\n",
       "</table>\n",
       "</div>"
      ],
      "text/plain": [
       "                     name   company  year  kms_driven fuel_type\n",
       "0     Hyundai Santro Xing   Hyundai  2007       45000    Petrol\n",
       "1     Mahindra Jeep CL550  Mahindra  2006          40    Diesel\n",
       "2       Hyundai Grand i10   Hyundai  2014       28000    Petrol\n",
       "3  Ford EcoSport Titanium      Ford  2014       36000    Diesel\n",
       "4               Ford Figo      Ford  2012       41000    Diesel"
      ]
     },
     "execution_count": 6,
     "metadata": {},
     "output_type": "execute_result"
    }
   ],
   "source": [
    "x.head()"
   ]
  },
  {
   "cell_type": "code",
   "execution_count": 7,
   "metadata": {},
   "outputs": [
    {
     "data": {
      "text/plain": [
       "0     80000\n",
       "1    425000\n",
       "2    325000\n",
       "3    575000\n",
       "4    175000\n",
       "Name: Price, dtype: int64"
      ]
     },
     "execution_count": 7,
     "metadata": {},
     "output_type": "execute_result"
    }
   ],
   "source": [
    "y.head()"
   ]
  },
  {
   "cell_type": "code",
   "execution_count": 8,
   "metadata": {},
   "outputs": [
    {
     "name": "stdout",
     "output_type": "stream",
     "text": [
      "We have 2 numerical features in x: ['year', 'kms_driven']\n",
      "\n",
      "We have 3 categorical features in x : ['name', 'company', 'fuel_type']\n"
     ]
    }
   ],
   "source": [
    "numeric_features = [feature for feature in x.columns if x[feature].dtype != 'O']\n",
    "categorical_features = [feature for feature in x.columns if x[feature].dtype == 'O']\n",
    "\n",
    "print('We have {} numerical features in x: {}'.format(len(numeric_features), numeric_features))\n",
    "print('\\nWe have {} categorical features in x : {}'.format(len(categorical_features), categorical_features))"
   ]
  },
  {
   "attachments": {},
   "cell_type": "markdown",
   "metadata": {},
   "source": [
    "#### 2.2 Creating an OneHotEncoder object to contain all the possible categories"
   ]
  },
  {
   "cell_type": "code",
   "execution_count": 9,
   "metadata": {},
   "outputs": [
    {
     "data": {
      "text/html": [
       "<style>#sk-container-id-1 {color: black;background-color: white;}#sk-container-id-1 pre{padding: 0;}#sk-container-id-1 div.sk-toggleable {background-color: white;}#sk-container-id-1 label.sk-toggleable__label {cursor: pointer;display: block;width: 100%;margin-bottom: 0;padding: 0.3em;box-sizing: border-box;text-align: center;}#sk-container-id-1 label.sk-toggleable__label-arrow:before {content: \"▸\";float: left;margin-right: 0.25em;color: #696969;}#sk-container-id-1 label.sk-toggleable__label-arrow:hover:before {color: black;}#sk-container-id-1 div.sk-estimator:hover label.sk-toggleable__label-arrow:before {color: black;}#sk-container-id-1 div.sk-toggleable__content {max-height: 0;max-width: 0;overflow: hidden;text-align: left;background-color: #f0f8ff;}#sk-container-id-1 div.sk-toggleable__content pre {margin: 0.2em;color: black;border-radius: 0.25em;background-color: #f0f8ff;}#sk-container-id-1 input.sk-toggleable__control:checked~div.sk-toggleable__content {max-height: 200px;max-width: 100%;overflow: auto;}#sk-container-id-1 input.sk-toggleable__control:checked~label.sk-toggleable__label-arrow:before {content: \"▾\";}#sk-container-id-1 div.sk-estimator input.sk-toggleable__control:checked~label.sk-toggleable__label {background-color: #d4ebff;}#sk-container-id-1 div.sk-label input.sk-toggleable__control:checked~label.sk-toggleable__label {background-color: #d4ebff;}#sk-container-id-1 input.sk-hidden--visually {border: 0;clip: rect(1px 1px 1px 1px);clip: rect(1px, 1px, 1px, 1px);height: 1px;margin: -1px;overflow: hidden;padding: 0;position: absolute;width: 1px;}#sk-container-id-1 div.sk-estimator {font-family: monospace;background-color: #f0f8ff;border: 1px dotted black;border-radius: 0.25em;box-sizing: border-box;margin-bottom: 0.5em;}#sk-container-id-1 div.sk-estimator:hover {background-color: #d4ebff;}#sk-container-id-1 div.sk-parallel-item::after {content: \"\";width: 100%;border-bottom: 1px solid gray;flex-grow: 1;}#sk-container-id-1 div.sk-label:hover label.sk-toggleable__label {background-color: #d4ebff;}#sk-container-id-1 div.sk-serial::before {content: \"\";position: absolute;border-left: 1px solid gray;box-sizing: border-box;top: 0;bottom: 0;left: 50%;z-index: 0;}#sk-container-id-1 div.sk-serial {display: flex;flex-direction: column;align-items: center;background-color: white;padding-right: 0.2em;padding-left: 0.2em;position: relative;}#sk-container-id-1 div.sk-item {position: relative;z-index: 1;}#sk-container-id-1 div.sk-parallel {display: flex;align-items: stretch;justify-content: center;background-color: white;position: relative;}#sk-container-id-1 div.sk-item::before, #sk-container-id-1 div.sk-parallel-item::before {content: \"\";position: absolute;border-left: 1px solid gray;box-sizing: border-box;top: 0;bottom: 0;left: 50%;z-index: -1;}#sk-container-id-1 div.sk-parallel-item {display: flex;flex-direction: column;z-index: 1;position: relative;background-color: white;}#sk-container-id-1 div.sk-parallel-item:first-child::after {align-self: flex-end;width: 50%;}#sk-container-id-1 div.sk-parallel-item:last-child::after {align-self: flex-start;width: 50%;}#sk-container-id-1 div.sk-parallel-item:only-child::after {width: 0;}#sk-container-id-1 div.sk-dashed-wrapped {border: 1px dashed gray;margin: 0 0.4em 0.5em 0.4em;box-sizing: border-box;padding-bottom: 0.4em;background-color: white;}#sk-container-id-1 div.sk-label label {font-family: monospace;font-weight: bold;display: inline-block;line-height: 1.2em;}#sk-container-id-1 div.sk-label-container {text-align: center;}#sk-container-id-1 div.sk-container {/* jupyter's `normalize.less` sets `[hidden] { display: none; }` but bootstrap.min.css set `[hidden] { display: none !important; }` so we also need the `!important` here to be able to override the default hidden behavior on the sphinx rendered scikit-learn.org. See: https://github.com/scikit-learn/scikit-learn/issues/21755 */display: inline-block !important;position: relative;}#sk-container-id-1 div.sk-text-repr-fallback {display: none;}</style><div id=\"sk-container-id-1\" class=\"sk-top-container\"><div class=\"sk-text-repr-fallback\"><pre>OneHotEncoder()</pre><b>In a Jupyter environment, please rerun this cell to show the HTML representation or trust the notebook. <br />On GitHub, the HTML representation is unable to render, please try loading this page with nbviewer.org.</b></div><div class=\"sk-container\" hidden><div class=\"sk-item\"><div class=\"sk-estimator sk-toggleable\"><input class=\"sk-toggleable__control sk-hidden--visually\" id=\"sk-estimator-id-1\" type=\"checkbox\" checked><label for=\"sk-estimator-id-1\" class=\"sk-toggleable__label sk-toggleable__label-arrow\">OneHotEncoder</label><div class=\"sk-toggleable__content\"><pre>OneHotEncoder()</pre></div></div></div></div></div>"
      ],
      "text/plain": [
       "OneHotEncoder()"
      ]
     },
     "execution_count": 9,
     "metadata": {},
     "output_type": "execute_result"
    }
   ],
   "source": [
    "ohe = OneHotEncoder()\n",
    "ohe.fit(x[['name','company','fuel_type']])"
   ]
  },
  {
   "attachments": {},
   "cell_type": "markdown",
   "metadata": {},
   "source": [
    "#### 2.3 Creating a Column transformer to transform categorical columns"
   ]
  },
  {
   "cell_type": "code",
   "execution_count": 10,
   "metadata": {},
   "outputs": [],
   "source": [
    "column_trans = make_column_transformer((OneHotEncoder(categories=ohe.categories_),['name','company','fuel_type']),\n",
    "                                    remainder='passthrough')"
   ]
  },
  {
   "attachments": {},
   "cell_type": "markdown",
   "metadata": {},
   "source": [
    "#### 2.4 Model R2 calculator function"
   ]
  },
  {
   "cell_type": "code",
   "execution_count": 11,
   "metadata": {},
   "outputs": [],
   "source": [
    "def model_R2_calc(x_data, y_data, column_trans, no_of_random_states):\n",
    "    \"\"\"\n",
    "    This function calculates r2_score using different models.\n",
    "    It takes input \"x_data\" as x data values, \"y_data\" as y data values,\n",
    "    \"column_trans\" as column transformer to transform categorical value \n",
    "    and \"no_of_random_states\" as \"random_state\". It starts from 0 to (rand_state - 1).\n",
    "    In the return, it gives - \"random_state_data => list of random states\", \n",
    "    \"model_data => list of models that used to train at corresponding random state\", \n",
    "    \"r2_train_score_data => list of r2 score of train model w.r.t. that random state & model\", \n",
    "    \"r2_test_score_data => list of r2 score of test model w.r.t. that random state & model\".\n",
    "    \"\"\"\n",
    "    \n",
    "    # Creating empty lists to store final outcome\n",
    "    random_state_data = []\n",
    "    model_data = []\n",
    "    r2_train_score_data = []\n",
    "    r2_test_score_data = []\n",
    "\n",
    "    # creating model dictionary\n",
    "    models = {\n",
    "            \"Linear Regression\": LinearRegression(),\n",
    "            # \"Lasso\": Lasso(max_iter=10000),\n",
    "            \"Ridge\": Ridge(),\n",
    "            \"K-Neighbors Regressor\": KNeighborsRegressor(),\n",
    "            \"Decision Tree\": DecisionTreeRegressor(),\n",
    "            \"Random Forest Regressor\": RandomForestRegressor(),\n",
    "            \"XGBRegressor\": XGBRegressor(), \n",
    "            \"CatBoosting Regressor\": CatBoostRegressor(verbose=False),\n",
    "            \"AdaBoost Regressor\": AdaBoostRegressor()\n",
    "            }\n",
    "\n",
    "    for i in range(no_of_random_states):\n",
    "        # Training & Testing Dataset preparation\n",
    "        x_train,x_test,y_train,y_test=train_test_split(x_data,y_data,test_size=0.2, random_state=i)\n",
    "\n",
    "        for j in range(len(models)):\n",
    "            model = list(models.values())[j]\n",
    "\n",
    "            # Making pipeline & fitting the model\n",
    "            pipe = make_pipeline(column_trans, model)\n",
    "            pipe.fit(x_train, y_train)\n",
    "\n",
    "            # Evaluating prediction\n",
    "            y_train_pred = pipe.predict(x_train)\n",
    "            y_test_pred = pipe.predict(x_test)\n",
    "\n",
    "            # calculating r2_score\n",
    "            r2_train = r2_score(y_train, y_train_pred)\n",
    "            r2_test =r2_score(y_test, y_test_pred)\n",
    "\n",
    "            random_state_data.append(i)\n",
    "            model_data.append(list(models.keys())[j])\n",
    "            r2_train_score_data.append(round(r2_train, 4))\n",
    "            r2_test_score_data.append(round(r2_test, 4))\n",
    "    return random_state_data, model_data, r2_train_score_data, r2_test_score_data\n",
    "            "
   ]
  },
  {
   "cell_type": "code",
   "execution_count": 12,
   "metadata": {},
   "outputs": [],
   "source": [
    "rand_states, models, r2_score_train_data, r2_score_test_data = model_R2_calc(x, y, column_trans, 200)"
   ]
  },
  {
   "attachments": {},
   "cell_type": "markdown",
   "metadata": {},
   "source": [
    "#### 2.5 Best Model R2 selector function"
   ]
  },
  {
   "cell_type": "code",
   "execution_count": 16,
   "metadata": {},
   "outputs": [],
   "source": [
    "def best_model_R2_selector(random_state_data, model_data, r2_train_score_data, r2_test_score_data):\n",
    "    \"\"\"\n",
    "    This function selects best r2 score of model.\n",
    "    It takes input \"random_state_data\" as list of random states, \n",
    "    \"model_data\" as list of models w.r.t. random states, \n",
    "    \"r2_train_score_data\" as list of r2 of train data w.r.t model & random state \n",
    "    & \"r2_test_score_data\"as list of r2 of train data w.r.t model & random state.\n",
    "    In the return, it gives - \"new_rand_state - best random state\", \n",
    "    \"new_model_list - list of best models to use at that random state\", \n",
    "    \"new_r2_train_list - best r2 score of train model w.r.t. that best random state & model\", \n",
    "    \"new_r2_test_list - bestr2 score of test model w.r.t. that best random state & model\".\n",
    "    \"\"\"\n",
    "     \n",
    "    best_random_state_data = []\n",
    "    best_model_data = []\n",
    "    best_r2_train_score_data = []\n",
    "    best_r2_test_score_data = []\n",
    "\n",
    "    for k in range(len(random_state_data)):\n",
    "        if (abs(r2_train_score_data[k] - r2_test_score_data[k]) < 0.1) and (r2_test_score_data[k] > 0.8):\n",
    "            best_random_state_data.append(random_state_data[k])\n",
    "            best_model_data.append(model_data[k])\n",
    "            best_r2_train_score_data.append(r2_train_score_data[k])\n",
    "            best_r2_test_score_data.append(r2_test_score_data[k])\n",
    "\n",
    "    return best_random_state_data, best_model_data, best_r2_train_score_data, best_r2_test_score_data"
   ]
  },
  {
   "cell_type": "code",
   "execution_count": 17,
   "metadata": {},
   "outputs": [],
   "source": [
    "best_rand_states, best_models, best_r2_score_train_data, best_r2_score_test_data  = best_model_R2_selector(\n",
    "    rand_states, models, r2_score_train_data, r2_score_test_data\n",
    "    )"
   ]
  },
  {
   "cell_type": "code",
   "execution_count": 20,
   "metadata": {},
   "outputs": [
    {
     "data": {
      "text/html": [
       "<div>\n",
       "<style scoped>\n",
       "    .dataframe tbody tr th:only-of-type {\n",
       "        vertical-align: middle;\n",
       "    }\n",
       "\n",
       "    .dataframe tbody tr th {\n",
       "        vertical-align: top;\n",
       "    }\n",
       "\n",
       "    .dataframe thead th {\n",
       "        text-align: right;\n",
       "    }\n",
       "</style>\n",
       "<table border=\"1\" class=\"dataframe\">\n",
       "  <thead>\n",
       "    <tr style=\"text-align: right;\">\n",
       "      <th></th>\n",
       "      <th>random state</th>\n",
       "      <th>model name</th>\n",
       "      <th>r2 train data</th>\n",
       "      <th>r2 test data</th>\n",
       "      <th>difference</th>\n",
       "    </tr>\n",
       "  </thead>\n",
       "  <tbody>\n",
       "    <tr>\n",
       "      <th>0</th>\n",
       "      <td>124</td>\n",
       "      <td>XGBRegressor</td>\n",
       "      <td>0.9759</td>\n",
       "      <td>0.9086</td>\n",
       "      <td>0.0673</td>\n",
       "    </tr>\n",
       "    <tr>\n",
       "      <th>1</th>\n",
       "      <td>151</td>\n",
       "      <td>XGBRegressor</td>\n",
       "      <td>0.9762</td>\n",
       "      <td>0.8881</td>\n",
       "      <td>0.0881</td>\n",
       "    </tr>\n",
       "    <tr>\n",
       "      <th>2</th>\n",
       "      <td>4</td>\n",
       "      <td>XGBRegressor</td>\n",
       "      <td>0.9757</td>\n",
       "      <td>0.8877</td>\n",
       "      <td>0.0880</td>\n",
       "    </tr>\n",
       "    <tr>\n",
       "      <th>3</th>\n",
       "      <td>4</td>\n",
       "      <td>Random Forest Regressor</td>\n",
       "      <td>0.9526</td>\n",
       "      <td>0.8791</td>\n",
       "      <td>0.0735</td>\n",
       "    </tr>\n",
       "    <tr>\n",
       "      <th>4</th>\n",
       "      <td>172</td>\n",
       "      <td>CatBoosting Regressor</td>\n",
       "      <td>0.9409</td>\n",
       "      <td>0.8767</td>\n",
       "      <td>0.0642</td>\n",
       "    </tr>\n",
       "    <tr>\n",
       "      <th>5</th>\n",
       "      <td>124</td>\n",
       "      <td>CatBoosting Regressor</td>\n",
       "      <td>0.9442</td>\n",
       "      <td>0.8733</td>\n",
       "      <td>0.0709</td>\n",
       "    </tr>\n",
       "    <tr>\n",
       "      <th>6</th>\n",
       "      <td>151</td>\n",
       "      <td>CatBoosting Regressor</td>\n",
       "      <td>0.9405</td>\n",
       "      <td>0.8706</td>\n",
       "      <td>0.0699</td>\n",
       "    </tr>\n",
       "    <tr>\n",
       "      <th>7</th>\n",
       "      <td>151</td>\n",
       "      <td>Random Forest Regressor</td>\n",
       "      <td>0.9491</td>\n",
       "      <td>0.8646</td>\n",
       "      <td>0.0845</td>\n",
       "    </tr>\n",
       "    <tr>\n",
       "      <th>8</th>\n",
       "      <td>124</td>\n",
       "      <td>Random Forest Regressor</td>\n",
       "      <td>0.9462</td>\n",
       "      <td>0.8643</td>\n",
       "      <td>0.0819</td>\n",
       "    </tr>\n",
       "    <tr>\n",
       "      <th>9</th>\n",
       "      <td>27</td>\n",
       "      <td>Random Forest Regressor</td>\n",
       "      <td>0.9446</td>\n",
       "      <td>0.8568</td>\n",
       "      <td>0.0878</td>\n",
       "    </tr>\n",
       "    <tr>\n",
       "      <th>10</th>\n",
       "      <td>172</td>\n",
       "      <td>Random Forest Regressor</td>\n",
       "      <td>0.9426</td>\n",
       "      <td>0.8556</td>\n",
       "      <td>0.0870</td>\n",
       "    </tr>\n",
       "    <tr>\n",
       "      <th>11</th>\n",
       "      <td>4</td>\n",
       "      <td>CatBoosting Regressor</td>\n",
       "      <td>0.9430</td>\n",
       "      <td>0.8543</td>\n",
       "      <td>0.0887</td>\n",
       "    </tr>\n",
       "    <tr>\n",
       "      <th>12</th>\n",
       "      <td>27</td>\n",
       "      <td>CatBoosting Regressor</td>\n",
       "      <td>0.9454</td>\n",
       "      <td>0.8512</td>\n",
       "      <td>0.0942</td>\n",
       "    </tr>\n",
       "    <tr>\n",
       "      <th>13</th>\n",
       "      <td>134</td>\n",
       "      <td>CatBoosting Regressor</td>\n",
       "      <td>0.9410</td>\n",
       "      <td>0.8422</td>\n",
       "      <td>0.0988</td>\n",
       "    </tr>\n",
       "    <tr>\n",
       "      <th>14</th>\n",
       "      <td>172</td>\n",
       "      <td>Linear Regression</td>\n",
       "      <td>0.8121</td>\n",
       "      <td>0.8245</td>\n",
       "      <td>0.0124</td>\n",
       "    </tr>\n",
       "    <tr>\n",
       "      <th>15</th>\n",
       "      <td>124</td>\n",
       "      <td>Linear Regression</td>\n",
       "      <td>0.7587</td>\n",
       "      <td>0.8216</td>\n",
       "      <td>0.0629</td>\n",
       "    </tr>\n",
       "    <tr>\n",
       "      <th>16</th>\n",
       "      <td>4</td>\n",
       "      <td>Linear Regression</td>\n",
       "      <td>0.7617</td>\n",
       "      <td>0.8189</td>\n",
       "      <td>0.0572</td>\n",
       "    </tr>\n",
       "  </tbody>\n",
       "</table>\n",
       "</div>"
      ],
      "text/plain": [
       "    random state               model name  r2 train data  r2 test data  \\\n",
       "0            124             XGBRegressor         0.9759        0.9086   \n",
       "1            151             XGBRegressor         0.9762        0.8881   \n",
       "2              4             XGBRegressor         0.9757        0.8877   \n",
       "3              4  Random Forest Regressor         0.9526        0.8791   \n",
       "4            172    CatBoosting Regressor         0.9409        0.8767   \n",
       "5            124    CatBoosting Regressor         0.9442        0.8733   \n",
       "6            151    CatBoosting Regressor         0.9405        0.8706   \n",
       "7            151  Random Forest Regressor         0.9491        0.8646   \n",
       "8            124  Random Forest Regressor         0.9462        0.8643   \n",
       "9             27  Random Forest Regressor         0.9446        0.8568   \n",
       "10           172  Random Forest Regressor         0.9426        0.8556   \n",
       "11             4    CatBoosting Regressor         0.9430        0.8543   \n",
       "12            27    CatBoosting Regressor         0.9454        0.8512   \n",
       "13           134    CatBoosting Regressor         0.9410        0.8422   \n",
       "14           172        Linear Regression         0.8121        0.8245   \n",
       "15           124        Linear Regression         0.7587        0.8216   \n",
       "16             4        Linear Regression         0.7617        0.8189   \n",
       "\n",
       "    difference  \n",
       "0       0.0673  \n",
       "1       0.0881  \n",
       "2       0.0880  \n",
       "3       0.0735  \n",
       "4       0.0642  \n",
       "5       0.0709  \n",
       "6       0.0699  \n",
       "7       0.0845  \n",
       "8       0.0819  \n",
       "9       0.0878  \n",
       "10      0.0870  \n",
       "11      0.0887  \n",
       "12      0.0942  \n",
       "13      0.0988  \n",
       "14      0.0124  \n",
       "15      0.0629  \n",
       "16      0.0572  "
      ]
     },
     "execution_count": 20,
     "metadata": {},
     "output_type": "execute_result"
    }
   ],
   "source": [
    "dictionary = {\n",
    "    \"random state\": best_rand_states, \n",
    "    \"model name\":best_models, \n",
    "    \"r2 train data\":best_r2_score_train_data, \n",
    "    \"r2 test data\":best_r2_score_test_data\n",
    "    }\n",
    "bestModelsDF = pd.DataFrame(dictionary)\n",
    "bestModelsDF[\"difference\"] = abs(bestModelsDF[\"r2 train data\"] - bestModelsDF['r2 test data'])\n",
    "bestModelsDF = bestModelsDF.sort_values(by=['r2 test data'], ascending=False).reset_index(drop=True)\n",
    "bestModelsDF"
   ]
  },
  {
   "attachments": {},
   "cell_type": "markdown",
   "metadata": {},
   "source": [
    "#### 2.4 Model Selection from best r2 selector function\n",
    "- From the above r2 score table, selecting **XGBRegressor** as model at **random state = 124**.\n",
    "- As difference between r2 score of train data & test data is less than **0.7**."
   ]
  },
  {
   "attachments": {},
   "cell_type": "markdown",
   "metadata": {},
   "source": [
    "#### 2.5 Checking **XGBRegressor** for another **1000** iteration for best random state."
   ]
  },
  {
   "cell_type": "code",
   "execution_count": 22,
   "metadata": {},
   "outputs": [],
   "source": [
    "rand_state_ = []\n",
    "r2_train_list_ =[]\n",
    "r2_test_list_ =[]\n",
    "\n",
    "for i in range(1000):\n",
    "    # Training & Testing Dataset preparation\n",
    "    x_train,x_test,y_train,y_test=train_test_split(x,y,test_size=0.2, random_state=i)\n",
    "\n",
    "    # Making pipeline & fitting the model\n",
    "    pipe = make_pipeline(column_trans, XGBRegressor())\n",
    "    pipe.fit(x_train, y_train)\n",
    "\n",
    "    # Evaluating prediction\n",
    "    y_train_pred = pipe.predict(x_train)\n",
    "    y_test_pred = pipe.predict(x_test)\n",
    "\n",
    "    # calculating r2_score\n",
    "    r2_train = r2_score(y_train, y_train_pred)\n",
    "    r2_test =r2_score(y_test, y_test_pred)\n",
    "\n",
    "    rand_state_.append(i)\n",
    "    r2_train_list_.append(round(r2_train, 4))\n",
    "    r2_test_list_.append(round(r2_test, 4))"
   ]
  },
  {
   "cell_type": "code",
   "execution_count": 30,
   "metadata": {},
   "outputs": [],
   "source": [
    "new_rand_state_ = []\n",
    "new_r2_train_list_ =[]\n",
    "new_r2_test_list_ =[]\n",
    "for k in range(len(rand_state_)):\n",
    "    if (abs(r2_train_list_[k] - r2_test_list_[k]) < 0.1) and (r2_test_list_[k] > 0.8):\n",
    "        new_rand_state_.append(rand_state_[k])\n",
    "        new_r2_train_list_.append(r2_train_list_[k])\n",
    "        new_r2_test_list_.append(r2_test_list_[k])\n",
    "\n",
    "xgb_model_r2 = {\n",
    "                'random state':new_rand_state_, \n",
    "                'r2 train data':new_r2_train_list_, \n",
    "                'r2 test data':new_r2_test_list_,\n",
    "                }\n",
    "xgb_model = pd.DataFrame(xgb_model_r2).sort_values(by=['r2 test data'], ascending=False).reset_index(drop=True)"
   ]
  },
  {
   "cell_type": "code",
   "execution_count": 32,
   "metadata": {},
   "outputs": [
    {
     "data": {
      "text/html": [
       "<div>\n",
       "<style scoped>\n",
       "    .dataframe tbody tr th:only-of-type {\n",
       "        vertical-align: middle;\n",
       "    }\n",
       "\n",
       "    .dataframe tbody tr th {\n",
       "        vertical-align: top;\n",
       "    }\n",
       "\n",
       "    .dataframe thead th {\n",
       "        text-align: right;\n",
       "    }\n",
       "</style>\n",
       "<table border=\"1\" class=\"dataframe\">\n",
       "  <thead>\n",
       "    <tr style=\"text-align: right;\">\n",
       "      <th></th>\n",
       "      <th>random state</th>\n",
       "      <th>r2 train data</th>\n",
       "      <th>r2 test data</th>\n",
       "      <th>difference</th>\n",
       "    </tr>\n",
       "  </thead>\n",
       "  <tbody>\n",
       "    <tr>\n",
       "      <th>0</th>\n",
       "      <td>652</td>\n",
       "      <td>0.9754</td>\n",
       "      <td>0.9108</td>\n",
       "      <td>0.0646</td>\n",
       "    </tr>\n",
       "    <tr>\n",
       "      <th>1</th>\n",
       "      <td>124</td>\n",
       "      <td>0.9759</td>\n",
       "      <td>0.9086</td>\n",
       "      <td>0.0673</td>\n",
       "    </tr>\n",
       "    <tr>\n",
       "      <th>2</th>\n",
       "      <td>151</td>\n",
       "      <td>0.9762</td>\n",
       "      <td>0.8881</td>\n",
       "      <td>0.0881</td>\n",
       "    </tr>\n",
       "    <tr>\n",
       "      <th>3</th>\n",
       "      <td>4</td>\n",
       "      <td>0.9757</td>\n",
       "      <td>0.8877</td>\n",
       "      <td>0.0880</td>\n",
       "    </tr>\n",
       "    <tr>\n",
       "      <th>4</th>\n",
       "      <td>903</td>\n",
       "      <td>0.9786</td>\n",
       "      <td>0.8840</td>\n",
       "      <td>0.0946</td>\n",
       "    </tr>\n",
       "  </tbody>\n",
       "</table>\n",
       "</div>"
      ],
      "text/plain": [
       "   random state  r2 train data  r2 test data  difference\n",
       "0           652         0.9754        0.9108      0.0646\n",
       "1           124         0.9759        0.9086      0.0673\n",
       "2           151         0.9762        0.8881      0.0881\n",
       "3             4         0.9757        0.8877      0.0880\n",
       "4           903         0.9786        0.8840      0.0946"
      ]
     },
     "execution_count": 32,
     "metadata": {},
     "output_type": "execute_result"
    }
   ],
   "source": [
    "xgb_model['difference'] = abs(xgb_model['r2 train data'] - xgb_model['r2 test data'])\n",
    "xgb_model"
   ]
  },
  {
   "attachments": {},
   "cell_type": "markdown",
   "metadata": {},
   "source": [
    "## 3. Model - **XGBoost Regressor**"
   ]
  },
  {
   "attachments": {},
   "cell_type": "markdown",
   "metadata": {},
   "source": [
    "#### 3.1 Training XGBoost regressor Model"
   ]
  },
  {
   "cell_type": "code",
   "execution_count": 37,
   "metadata": {},
   "outputs": [
    {
     "name": "stdout",
     "output_type": "stream",
     "text": [
      "0.9754\n",
      "0.9108\n"
     ]
    }
   ],
   "source": [
    "x_train, x_test, y_train, y_test = train_test_split(x,y,test_size=0.2,random_state=652)\n",
    "xgb = XGBRegressor()\n",
    "pipe = make_pipeline(column_trans, xgb)\n",
    "pipe.fit(x_train, y_train)\n",
    "\n",
    "# Make predictions\n",
    "y_train_pred = pipe.predict(x_train)\n",
    "y_test_pred = pipe.predict(x_test)\n",
    "\n",
    "# Evaluate Train and Test dataset\n",
    "print(round(r2_score(y_train, y_train_pred), 4))\n",
    "print(np.round(r2_score(y_test, y_test_pred), 4))"
   ]
  },
  {
   "attachments": {},
   "cell_type": "markdown",
   "metadata": {},
   "source": [
    "#### 3.2 Plot y_predicted vs y_test"
   ]
  },
  {
   "cell_type": "code",
   "execution_count": 39,
   "metadata": {},
   "outputs": [
    {
     "data": {
      "text/plain": [
       "Text(0, 0.5, 'Predicted')"
      ]
     },
     "execution_count": 39,
     "metadata": {},
     "output_type": "execute_result"
    },
    {
     "data": {
      "image/png": "[encoded data removed]",
      "text/plain": [
       "<Figure size 640x480 with 1 Axes>"
      ]
     },
     "metadata": {},
     "output_type": "display_data"
    }
   ],
   "source": [
    "plt.scatter(y_test, y_test_pred)\n",
    "plt.xlabel(\"Actual\")\n",
    "plt.ylabel(\"Predicted\")"
   ]
  },
  {
   "cell_type": "code",
   "execution_count": 40,
   "metadata": {},
   "outputs": [
    {
     "data": {
      "text/plain": [
       "<Axes: xlabel='Price'>"
      ]
     },
     "execution_count": 40,
     "metadata": {},
     "output_type": "execute_result"
    },
    {
     "data": {
      "image/png": "[encoded data removed]",
      "text/plain": [
       "<Figure size 640x480 with 1 Axes>"
      ]
     },
     "metadata": {},
     "output_type": "display_data"
    }
   ],
   "source": [
    "sns.regplot(x=y_test, y=y_test_pred, ci=None, color='red')"
   ]
  },
  {
   "attachments": {},
   "cell_type": "markdown",
   "metadata": {},
   "source": [
    "#### 3.3 Difference Between Actual & Predicted Values"
   ]
  },
  {
   "cell_type": "code",
   "execution_count": 41,
   "metadata": {},
   "outputs": [
    {
     "data": {
      "text/html": [
       "<div>\n",
       "<style scoped>\n",
       "    .dataframe tbody tr th:only-of-type {\n",
       "        vertical-align: middle;\n",
       "    }\n",
       "\n",
       "    .dataframe tbody tr th {\n",
       "        vertical-align: top;\n",
       "    }\n",
       "\n",
       "    .dataframe thead th {\n",
       "        text-align: right;\n",
       "    }\n",
       "</style>\n",
       "<table border=\"1\" class=\"dataframe\">\n",
       "  <thead>\n",
       "    <tr style=\"text-align: right;\">\n",
       "      <th></th>\n",
       "      <th>Actual Value</th>\n",
       "      <th>Predicted Value</th>\n",
       "      <th>Difference</th>\n",
       "    </tr>\n",
       "  </thead>\n",
       "  <tbody>\n",
       "    <tr>\n",
       "      <th>653</th>\n",
       "      <td>135000</td>\n",
       "      <td>2.310972e+05</td>\n",
       "      <td>-96097.25000</td>\n",
       "    </tr>\n",
       "    <tr>\n",
       "      <th>475</th>\n",
       "      <td>149000</td>\n",
       "      <td>1.715378e+05</td>\n",
       "      <td>-22537.84375</td>\n",
       "    </tr>\n",
       "    <tr>\n",
       "      <th>645</th>\n",
       "      <td>1490000</td>\n",
       "      <td>1.611514e+06</td>\n",
       "      <td>-121514.25000</td>\n",
       "    </tr>\n",
       "    <tr>\n",
       "      <th>456</th>\n",
       "      <td>250000</td>\n",
       "      <td>2.929396e+05</td>\n",
       "      <td>-42939.62500</td>\n",
       "    </tr>\n",
       "    <tr>\n",
       "      <th>286</th>\n",
       "      <td>1891111</td>\n",
       "      <td>1.858916e+06</td>\n",
       "      <td>32195.37500</td>\n",
       "    </tr>\n",
       "    <tr>\n",
       "      <th>...</th>\n",
       "      <td>...</td>\n",
       "      <td>...</td>\n",
       "      <td>...</td>\n",
       "    </tr>\n",
       "    <tr>\n",
       "      <th>615</th>\n",
       "      <td>500000</td>\n",
       "      <td>2.477600e+05</td>\n",
       "      <td>252239.96875</td>\n",
       "    </tr>\n",
       "    <tr>\n",
       "      <th>93</th>\n",
       "      <td>210000</td>\n",
       "      <td>2.711654e+05</td>\n",
       "      <td>-61165.37500</td>\n",
       "    </tr>\n",
       "    <tr>\n",
       "      <th>535</th>\n",
       "      <td>199000</td>\n",
       "      <td>2.071421e+05</td>\n",
       "      <td>-8142.12500</td>\n",
       "    </tr>\n",
       "    <tr>\n",
       "      <th>382</th>\n",
       "      <td>450000</td>\n",
       "      <td>4.789633e+05</td>\n",
       "      <td>-28963.28125</td>\n",
       "    </tr>\n",
       "    <tr>\n",
       "      <th>500</th>\n",
       "      <td>480000</td>\n",
       "      <td>4.519145e+05</td>\n",
       "      <td>28085.53125</td>\n",
       "    </tr>\n",
       "  </tbody>\n",
       "</table>\n",
       "<p>163 rows × 3 columns</p>\n",
       "</div>"
      ],
      "text/plain": [
       "     Actual Value  Predicted Value    Difference\n",
       "653        135000     2.310972e+05  -96097.25000\n",
       "475        149000     1.715378e+05  -22537.84375\n",
       "645       1490000     1.611514e+06 -121514.25000\n",
       "456        250000     2.929396e+05  -42939.62500\n",
       "286       1891111     1.858916e+06   32195.37500\n",
       "..            ...              ...           ...\n",
       "615        500000     2.477600e+05  252239.96875\n",
       "93         210000     2.711654e+05  -61165.37500\n",
       "535        199000     2.071421e+05   -8142.12500\n",
       "382        450000     4.789633e+05  -28963.28125\n",
       "500        480000     4.519145e+05   28085.53125\n",
       "\n",
       "[163 rows x 3 columns]"
      ]
     },
     "execution_count": 41,
     "metadata": {},
     "output_type": "execute_result"
    }
   ],
   "source": [
    "pd.DataFrame({'Actual Value':y_test, 'Predicted Value':y_test_pred, 'Difference':(y_test-y_test_pred)})"
   ]
  },
  {
   "attachments": {},
   "cell_type": "markdown",
   "metadata": {},
   "source": [
    "## 4. Saving Trained and Testd Model - Linear Regressor"
   ]
  },
  {
   "cell_type": "code",
   "execution_count": 46,
   "metadata": {},
   "outputs": [],
   "source": [
    "import pickle\n",
    "path = \"D:/All Files/Data Science/3. ML Projects/Car_Price_Predictor/model/\"\n",
    "pickle.dump(pipe, open((path + \"car_price_pred_Model.pkl\"), 'wb'))"
   ]
  },
  {
   "cell_type": "code",
   "execution_count": 42,
   "metadata": {},
   "outputs": [
    {
     "name": "stdout",
     "output_type": "stream",
     "text": [
      "0.9754\n",
      "0.9108\n"
     ]
    }
   ],
   "source": [
    "print(round(r2_score(y_train, y_train_pred), 4))\n",
    "print(np.round(r2_score(y_test, y_test_pred), 4))"
   ]
  },
  {
   "cell_type": "code",
   "execution_count": 45,
   "metadata": {},
   "outputs": [
    {
     "data": {
      "text/plain": [
       "array([584407.94], dtype=float32)"
      ]
     },
     "execution_count": 45,
     "metadata": {},
     "output_type": "execute_result"
    }
   ],
   "source": [
    "pipe.predict(pd.DataFrame(columns=['name','company','year','kms_driven','fuel_type'],data=np.array(['Maruti Suzuki Swift','Maruti',2019,100,'Petrol']).reshape(1,5)))"
   ]
  }
 ],
 "metadata": {
  "kernelspec": {
   "display_name": "Python 3",
   "language": "python",
   "name": "python3"
  },
  "language_info": {
   "codemirror_mode": {
    "name": "ipython",
    "version": 3
   },
   "file_extension": ".py",
   "mimetype": "text/x-python",
   "name": "python",
   "nbconvert_exporter": "python",
   "pygments_lexer": "ipython3",
   "version": "3.8.7"
  },
  "orig_nbformat": 4
 },
 "nbformat": 4,
 "nbformat_minor": 2
}
