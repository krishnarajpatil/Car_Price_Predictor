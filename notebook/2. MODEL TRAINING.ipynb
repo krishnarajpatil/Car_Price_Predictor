{
 "cells": [
  {
   "attachments": {},
   "cell_type": "markdown",
   "metadata": {},
   "source": [
    "# MODEL TRAINING"
   ]
  },
  {
   "attachments": {},
   "cell_type": "markdown",
   "metadata": {},
   "source": [
    "## 1. Importing data and required packages"
   ]
  },
  {
   "attachments": {},
   "cell_type": "markdown",
   "metadata": {},
   "source": [
    "#### 1.1 import modeules"
   ]
  },
  {
   "cell_type": "code",
   "execution_count": 1,
   "metadata": {},
   "outputs": [],
   "source": [
    "# Basic import\n",
    "import numpy as np\n",
    "import pandas as pd\n",
    "import matplotlib.pyplot as plt \n",
    "import seaborn as sns\n",
    "\n",
    "# Modelling\n",
    "from sklearn.metrics import mean_squared_error, r2_score\n",
    "from sklearn.neighbors import KNeighborsRegressor\n",
    "from sklearn.tree import DecisionTreeRegressor\n",
    "from sklearn.ensemble import RandomForestRegressor,AdaBoostRegressor\n",
    "from sklearn.svm import SVR\n",
    "from sklearn.linear_model import LinearRegression, Ridge,Lasso\n",
    "from sklearn.metrics import r2_score, mean_absolute_error, mean_squared_error\n",
    "from sklearn.model_selection import RandomizedSearchCV\n",
    "from catboost import CatBoostRegressor\n",
    "from xgboost import XGBRegressor\n",
    "\n",
    "# Column Transformers\n",
    "from sklearn.preprocessing import OneHotEncoder, StandardScaler\n",
    "from sklearn.compose import ColumnTransformer\n",
    "\n",
    "# separate dataset into train & test\n",
    "from sklearn.model_selection import train_test_split"
   ]
  },
  {
   "attachments": {},
   "cell_type": "markdown",
   "metadata": {},
   "source": []
  },
  {
   "attachments": {},
   "cell_type": "markdown",
   "metadata": {},
   "source": [
    "#### 1.2 import cleaned data as pandas dataframe"
   ]
  },
  {
   "cell_type": "code",
   "execution_count": 2,
   "metadata": {},
   "outputs": [],
   "source": [
    "car_data = pd.read_csv('data/cleaned_car_data.csv', index_col=0)"
   ]
  },
  {
   "cell_type": "code",
   "execution_count": 3,
   "metadata": {},
   "outputs": [
    {
     "data": {
      "text/html": [
       "<div>\n",
       "<style scoped>\n",
       "    .dataframe tbody tr th:only-of-type {\n",
       "        vertical-align: middle;\n",
       "    }\n",
       "\n",
       "    .dataframe tbody tr th {\n",
       "        vertical-align: top;\n",
       "    }\n",
       "\n",
       "    .dataframe thead th {\n",
       "        text-align: right;\n",
       "    }\n",
       "</style>\n",
       "<table border=\"1\" class=\"dataframe\">\n",
       "  <thead>\n",
       "    <tr style=\"text-align: right;\">\n",
       "      <th></th>\n",
       "      <th>name</th>\n",
       "      <th>company</th>\n",
       "      <th>year</th>\n",
       "      <th>Price</th>\n",
       "      <th>kms_driven</th>\n",
       "      <th>fuel_type</th>\n",
       "    </tr>\n",
       "  </thead>\n",
       "  <tbody>\n",
       "    <tr>\n",
       "      <th>0</th>\n",
       "      <td>Hyundai XO III</td>\n",
       "      <td>Hyundai</td>\n",
       "      <td>2007</td>\n",
       "      <td>80000</td>\n",
       "      <td>45000</td>\n",
       "      <td>Petrol</td>\n",
       "    </tr>\n",
       "    <tr>\n",
       "      <th>1</th>\n",
       "      <td>Mahindra MDI</td>\n",
       "      <td>Mahindra</td>\n",
       "      <td>2006</td>\n",
       "      <td>425000</td>\n",
       "      <td>40</td>\n",
       "      <td>Diesel</td>\n",
       "    </tr>\n",
       "    <tr>\n",
       "      <th>2</th>\n",
       "      <td>Hyundai Magna VTVT</td>\n",
       "      <td>Hyundai</td>\n",
       "      <td>2014</td>\n",
       "      <td>325000</td>\n",
       "      <td>28000</td>\n",
       "      <td>Petrol</td>\n",
       "    </tr>\n",
       "    <tr>\n",
       "      <th>3</th>\n",
       "      <td>Ford 1.5L</td>\n",
       "      <td>Ford</td>\n",
       "      <td>2014</td>\n",
       "      <td>575000</td>\n",
       "      <td>36000</td>\n",
       "      <td>Diesel</td>\n",
       "    </tr>\n",
       "    <tr>\n",
       "      <th>4</th>\n",
       "      <td>Ford</td>\n",
       "      <td>Ford</td>\n",
       "      <td>2012</td>\n",
       "      <td>175000</td>\n",
       "      <td>41000</td>\n",
       "      <td>Diesel</td>\n",
       "    </tr>\n",
       "    <tr>\n",
       "      <th>...</th>\n",
       "      <td>...</td>\n",
       "      <td>...</td>\n",
       "      <td>...</td>\n",
       "      <td>...</td>\n",
       "      <td>...</td>\n",
       "      <td>...</td>\n",
       "    </tr>\n",
       "    <tr>\n",
       "      <th>810</th>\n",
       "      <td>Maruti VXI</td>\n",
       "      <td>Maruti</td>\n",
       "      <td>2011</td>\n",
       "      <td>270000</td>\n",
       "      <td>50000</td>\n",
       "      <td>Petrol</td>\n",
       "    </tr>\n",
       "    <tr>\n",
       "      <th>811</th>\n",
       "      <td>Tata DLE</td>\n",
       "      <td>Tata</td>\n",
       "      <td>2009</td>\n",
       "      <td>110000</td>\n",
       "      <td>30000</td>\n",
       "      <td>Diesel</td>\n",
       "    </tr>\n",
       "    <tr>\n",
       "      <th>812</th>\n",
       "      <td>Toyota</td>\n",
       "      <td>Toyota</td>\n",
       "      <td>2009</td>\n",
       "      <td>300000</td>\n",
       "      <td>132000</td>\n",
       "      <td>Petrol</td>\n",
       "    </tr>\n",
       "    <tr>\n",
       "      <th>813</th>\n",
       "      <td>Tata Diesel</td>\n",
       "      <td>Tata</td>\n",
       "      <td>2018</td>\n",
       "      <td>260000</td>\n",
       "      <td>27000</td>\n",
       "      <td>Diesel</td>\n",
       "    </tr>\n",
       "    <tr>\n",
       "      <th>814</th>\n",
       "      <td>Mahindra</td>\n",
       "      <td>Mahindra</td>\n",
       "      <td>2013</td>\n",
       "      <td>390000</td>\n",
       "      <td>40000</td>\n",
       "      <td>Diesel</td>\n",
       "    </tr>\n",
       "  </tbody>\n",
       "</table>\n",
       "<p>815 rows × 6 columns</p>\n",
       "</div>"
      ],
      "text/plain": [
       "                   name   company  year   Price  kms_driven fuel_type\n",
       "0        Hyundai XO III   Hyundai  2007   80000       45000    Petrol\n",
       "1          Mahindra MDI  Mahindra  2006  425000          40    Diesel\n",
       "2    Hyundai Magna VTVT   Hyundai  2014  325000       28000    Petrol\n",
       "3             Ford 1.5L      Ford  2014  575000       36000    Diesel\n",
       "4                  Ford      Ford  2012  175000       41000    Diesel\n",
       "..                  ...       ...   ...     ...         ...       ...\n",
       "810          Maruti VXI    Maruti  2011  270000       50000    Petrol\n",
       "811            Tata DLE      Tata  2009  110000       30000    Diesel\n",
       "812              Toyota    Toyota  2009  300000      132000    Petrol\n",
       "813         Tata Diesel      Tata  2018  260000       27000    Diesel\n",
       "814            Mahindra  Mahindra  2013  390000       40000    Diesel\n",
       "\n",
       "[815 rows x 6 columns]"
      ]
     },
     "execution_count": 3,
     "metadata": {},
     "output_type": "execute_result"
    }
   ],
   "source": [
    "car_data"
   ]
  },
  {
   "attachments": {},
   "cell_type": "markdown",
   "metadata": {},
   "source": [
    "## 2. Preparation of Model"
   ]
  },
  {
   "attachments": {},
   "cell_type": "markdown",
   "metadata": {},
   "source": [
    "#### 2.1 Preparing x & y variables"
   ]
  },
  {
   "cell_type": "code",
   "execution_count": 4,
   "metadata": {},
   "outputs": [],
   "source": [
    "x = car_data.drop(columns=['Price'], axis=1)\n",
    "y = car_data['Price']"
   ]
  },
  {
   "attachments": {},
   "cell_type": "markdown",
   "metadata": {},
   "source": []
  },
  {
   "cell_type": "code",
   "execution_count": 5,
   "metadata": {},
   "outputs": [
    {
     "data": {
      "text/html": [
       "<div>\n",
       "<style scoped>\n",
       "    .dataframe tbody tr th:only-of-type {\n",
       "        vertical-align: middle;\n",
       "    }\n",
       "\n",
       "    .dataframe tbody tr th {\n",
       "        vertical-align: top;\n",
       "    }\n",
       "\n",
       "    .dataframe thead th {\n",
       "        text-align: right;\n",
       "    }\n",
       "</style>\n",
       "<table border=\"1\" class=\"dataframe\">\n",
       "  <thead>\n",
       "    <tr style=\"text-align: right;\">\n",
       "      <th></th>\n",
       "      <th>name</th>\n",
       "      <th>company</th>\n",
       "      <th>year</th>\n",
       "      <th>kms_driven</th>\n",
       "      <th>fuel_type</th>\n",
       "    </tr>\n",
       "  </thead>\n",
       "  <tbody>\n",
       "    <tr>\n",
       "      <th>0</th>\n",
       "      <td>Hyundai XO III</td>\n",
       "      <td>Hyundai</td>\n",
       "      <td>2007</td>\n",
       "      <td>45000</td>\n",
       "      <td>Petrol</td>\n",
       "    </tr>\n",
       "    <tr>\n",
       "      <th>1</th>\n",
       "      <td>Mahindra MDI</td>\n",
       "      <td>Mahindra</td>\n",
       "      <td>2006</td>\n",
       "      <td>40</td>\n",
       "      <td>Diesel</td>\n",
       "    </tr>\n",
       "    <tr>\n",
       "      <th>2</th>\n",
       "      <td>Hyundai Magna VTVT</td>\n",
       "      <td>Hyundai</td>\n",
       "      <td>2014</td>\n",
       "      <td>28000</td>\n",
       "      <td>Petrol</td>\n",
       "    </tr>\n",
       "    <tr>\n",
       "      <th>3</th>\n",
       "      <td>Ford 1.5L</td>\n",
       "      <td>Ford</td>\n",
       "      <td>2014</td>\n",
       "      <td>36000</td>\n",
       "      <td>Diesel</td>\n",
       "    </tr>\n",
       "    <tr>\n",
       "      <th>4</th>\n",
       "      <td>Ford</td>\n",
       "      <td>Ford</td>\n",
       "      <td>2012</td>\n",
       "      <td>41000</td>\n",
       "      <td>Diesel</td>\n",
       "    </tr>\n",
       "  </tbody>\n",
       "</table>\n",
       "</div>"
      ],
      "text/plain": [
       "                 name   company  year  kms_driven fuel_type\n",
       "0      Hyundai XO III   Hyundai  2007       45000    Petrol\n",
       "1        Mahindra MDI  Mahindra  2006          40    Diesel\n",
       "2  Hyundai Magna VTVT   Hyundai  2014       28000    Petrol\n",
       "3           Ford 1.5L      Ford  2014       36000    Diesel\n",
       "4                Ford      Ford  2012       41000    Diesel"
      ]
     },
     "execution_count": 5,
     "metadata": {},
     "output_type": "execute_result"
    }
   ],
   "source": [
    "x.head()"
   ]
  },
  {
   "cell_type": "code",
   "execution_count": 6,
   "metadata": {},
   "outputs": [
    {
     "data": {
      "text/plain": [
       "0     80000\n",
       "1    425000\n",
       "2    325000\n",
       "3    575000\n",
       "4    175000\n",
       "Name: Price, dtype: int64"
      ]
     },
     "execution_count": 6,
     "metadata": {},
     "output_type": "execute_result"
    }
   ],
   "source": [
    "y.head()"
   ]
  },
  {
   "attachments": {},
   "cell_type": "markdown",
   "metadata": {},
   "source": [
    "#### 2.2 training & testing dataset preparation"
   ]
  },
  {
   "cell_type": "code",
   "execution_count": 7,
   "metadata": {},
   "outputs": [
    {
     "name": "stdout",
     "output_type": "stream",
     "text": [
      "We have 2 numerical features : ['year', 'kms_driven']\n",
      "\n",
      "We have 3 categorical features : ['name', 'company', 'fuel_type']\n"
     ]
    }
   ],
   "source": [
    "numeric_features = [feature for feature in x.columns if x[feature].dtype != 'O']\n",
    "categorical_features = [feature for feature in x.columns if x[feature].dtype == 'O']\n",
    "\n",
    "print('We have {} numerical features : {}'.format(len(numeric_features), numeric_features))\n",
    "print('\\nWe have {} categorical features : {}'.format(len(categorical_features), categorical_features))"
   ]
  },
  {
   "cell_type": "code",
   "execution_count": 8,
   "metadata": {},
   "outputs": [],
   "source": [
    "numeric_transformer = StandardScaler()\n",
    "ohe_transformer = OneHotEncoder()"
   ]
  },
  {
   "cell_type": "code",
   "execution_count": 9,
   "metadata": {},
   "outputs": [],
   "source": [
    "preprocessor = ColumnTransformer(\n",
    "    [\n",
    "        (\"OneHotEncoder\", ohe_transformer, categorical_features),\n",
    "        (\"StandardScaler\", numeric_transformer, numeric_features)\n",
    "    ]\n",
    ")"
   ]
  },
  {
   "cell_type": "code",
   "execution_count": 10,
   "metadata": {},
   "outputs": [
    {
     "data": {
      "text/plain": [
       "(815, 293)"
      ]
     },
     "execution_count": 10,
     "metadata": {},
     "output_type": "execute_result"
    }
   ],
   "source": [
    "X = preprocessor.fit_transform(x)\n",
    "X.shape"
   ]
  },
  {
   "attachments": {},
   "cell_type": "markdown",
   "metadata": {},
   "source": [
    "#### 2.3 Model calculations"
   ]
  },
  {
   "cell_type": "code",
   "execution_count": 11,
   "metadata": {},
   "outputs": [],
   "source": [
    "def model_R2_calc(rnd_stt):\n",
    "    \"\"\"\n",
    "    This function calculates r2_score using 9 different models.\n",
    "    It takes input \"rnd_stt\" as \"random_state\".\n",
    "    It starts from 0 to (rand_state - 1).\n",
    "    In the return, it gives - \"new_rand_state - best random state\", \n",
    "    \"new_model_list - list of best models to use at that random state\", \n",
    "    \"new_r2_train_list - best r2 score of train model w.r.t. that best random state & model\", \n",
    "    \"new_r2_test_list - bestr2 score of test model w.r.t. that best random state & model\".\n",
    "    \"\"\"\n",
    "    \n",
    "    rand_state = []\n",
    "    model_list = []\n",
    "    r2_train_list =[]\n",
    "    r2_test_list =[]\n",
    "\n",
    "    for i in range(rnd_stt):\n",
    "        x_train, x_test, y_train, y_test = train_test_split(X,y,test_size=0.2,random_state=i)\n",
    "        \n",
    "        models = {\n",
    "            \"Linear Regression\": LinearRegression(),\n",
    "            #\"Lasso\": Lasso(max_iter=10000),\n",
    "            \"Ridge\": Ridge(),\n",
    "            \"K-Neighbors Regressor\": KNeighborsRegressor(),\n",
    "            \"Decision Tree\": DecisionTreeRegressor(),\n",
    "            \"Random Forest Regressor\": RandomForestRegressor(),\n",
    "            \"XGBRegressor\": XGBRegressor(), \n",
    "            \"CatBoosting Regressor\": CatBoostRegressor(verbose=False),\n",
    "            \"AdaBoost Regressor\": AdaBoostRegressor()\n",
    "            }\n",
    "\n",
    "\n",
    "        for j in range(len(list(models))):\n",
    "            model = list(models.values())[j]\n",
    "            model.fit(x_train, y_train) # Train model\n",
    "\n",
    "            # Make predictions\n",
    "            y_train_pred = model.predict(x_train)\n",
    "            y_test_pred = model.predict(x_test)\n",
    "            \n",
    "            # Evaluate Train and Test dataset\n",
    "            model_train_r2 = r2_score(y_train, y_train_pred)\n",
    "            model_test_r2 = r2_score(y_test, y_test_pred)\n",
    "            \n",
    "            rand_state.append(i)\n",
    "            model_list.append(list(models.keys())[j])\n",
    "            r2_train_list.append(round(model_train_r2, 4))\n",
    "            r2_test_list.append(round(model_test_r2, 4))\n",
    "    \n",
    "    new_rand_state = []\n",
    "    new_model_list = []\n",
    "    new_r2_train_list =[]\n",
    "    new_r2_test_list =[]\n",
    "\n",
    "    for k in range(len(rand_state)):\n",
    "        if (abs(r2_train_list[k] - r2_test_list[k]) < 0.1) and (r2_test_list[k] > 0.8):\n",
    "            new_rand_state.append(rand_state[k])\n",
    "            new_model_list.append(model_list[k])\n",
    "            new_r2_train_list.append(r2_train_list[k])\n",
    "            new_r2_test_list.append(r2_test_list[k])\n",
    "\n",
    "    return new_rand_state, new_model_list, new_r2_train_list, new_r2_test_list"
   ]
  },
  {
   "cell_type": "code",
   "execution_count": 12,
   "metadata": {},
   "outputs": [],
   "source": [
    "rand_state, model_list, r2_train_list, r2_test_list = model_R2_calc(200)\n"
   ]
  },
  {
   "cell_type": "code",
   "execution_count": 13,
   "metadata": {},
   "outputs": [
    {
     "data": {
      "text/html": [
       "<div>\n",
       "<style scoped>\n",
       "    .dataframe tbody tr th:only-of-type {\n",
       "        vertical-align: middle;\n",
       "    }\n",
       "\n",
       "    .dataframe tbody tr th {\n",
       "        vertical-align: top;\n",
       "    }\n",
       "\n",
       "    .dataframe thead th {\n",
       "        text-align: right;\n",
       "    }\n",
       "</style>\n",
       "<table border=\"1\" class=\"dataframe\">\n",
       "  <thead>\n",
       "    <tr style=\"text-align: right;\">\n",
       "      <th></th>\n",
       "      <th>model_name</th>\n",
       "      <th>random_state</th>\n",
       "      <th>r2_train</th>\n",
       "      <th>r2_test</th>\n",
       "    </tr>\n",
       "  </thead>\n",
       "  <tbody>\n",
       "    <tr>\n",
       "      <th>0</th>\n",
       "      <td>XGBRegressor</td>\n",
       "      <td>124</td>\n",
       "      <td>0.9649</td>\n",
       "      <td>0.8723</td>\n",
       "    </tr>\n",
       "    <tr>\n",
       "      <th>1</th>\n",
       "      <td>Linear Regression</td>\n",
       "      <td>124</td>\n",
       "      <td>0.9139</td>\n",
       "      <td>0.8549</td>\n",
       "    </tr>\n",
       "    <tr>\n",
       "      <th>2</th>\n",
       "      <td>Random Forest Regressor</td>\n",
       "      <td>4</td>\n",
       "      <td>0.9379</td>\n",
       "      <td>0.8536</td>\n",
       "    </tr>\n",
       "    <tr>\n",
       "      <th>3</th>\n",
       "      <td>Random Forest Regressor</td>\n",
       "      <td>124</td>\n",
       "      <td>0.9285</td>\n",
       "      <td>0.8529</td>\n",
       "    </tr>\n",
       "    <tr>\n",
       "      <th>4</th>\n",
       "      <td>Ridge</td>\n",
       "      <td>124</td>\n",
       "      <td>0.8593</td>\n",
       "      <td>0.8421</td>\n",
       "    </tr>\n",
       "    <tr>\n",
       "      <th>5</th>\n",
       "      <td>CatBoosting Regressor</td>\n",
       "      <td>124</td>\n",
       "      <td>0.9303</td>\n",
       "      <td>0.8406</td>\n",
       "    </tr>\n",
       "    <tr>\n",
       "      <th>6</th>\n",
       "      <td>Linear Regression</td>\n",
       "      <td>172</td>\n",
       "      <td>0.9178</td>\n",
       "      <td>0.8401</td>\n",
       "    </tr>\n",
       "    <tr>\n",
       "      <th>7</th>\n",
       "      <td>CatBoosting Regressor</td>\n",
       "      <td>172</td>\n",
       "      <td>0.9274</td>\n",
       "      <td>0.8330</td>\n",
       "    </tr>\n",
       "    <tr>\n",
       "      <th>8</th>\n",
       "      <td>Ridge</td>\n",
       "      <td>4</td>\n",
       "      <td>0.8568</td>\n",
       "      <td>0.8254</td>\n",
       "    </tr>\n",
       "    <tr>\n",
       "      <th>9</th>\n",
       "      <td>Linear Regression</td>\n",
       "      <td>48</td>\n",
       "      <td>0.9148</td>\n",
       "      <td>0.8244</td>\n",
       "    </tr>\n",
       "    <tr>\n",
       "      <th>10</th>\n",
       "      <td>Ridge</td>\n",
       "      <td>172</td>\n",
       "      <td>0.8626</td>\n",
       "      <td>0.8221</td>\n",
       "    </tr>\n",
       "    <tr>\n",
       "      <th>11</th>\n",
       "      <td>Ridge</td>\n",
       "      <td>151</td>\n",
       "      <td>0.8644</td>\n",
       "      <td>0.8119</td>\n",
       "    </tr>\n",
       "  </tbody>\n",
       "</table>\n",
       "</div>"
      ],
      "text/plain": [
       "                 model_name  random_state  r2_train  r2_test\n",
       "0              XGBRegressor           124    0.9649   0.8723\n",
       "1         Linear Regression           124    0.9139   0.8549\n",
       "2   Random Forest Regressor             4    0.9379   0.8536\n",
       "3   Random Forest Regressor           124    0.9285   0.8529\n",
       "4                     Ridge           124    0.8593   0.8421\n",
       "5     CatBoosting Regressor           124    0.9303   0.8406\n",
       "6         Linear Regression           172    0.9178   0.8401\n",
       "7     CatBoosting Regressor           172    0.9274   0.8330\n",
       "8                     Ridge             4    0.8568   0.8254\n",
       "9         Linear Regression            48    0.9148   0.8244\n",
       "10                    Ridge           172    0.8626   0.8221\n",
       "11                    Ridge           151    0.8644   0.8119"
      ]
     },
     "execution_count": 13,
     "metadata": {},
     "output_type": "execute_result"
    }
   ],
   "source": [
    "model_data = {\n",
    "                'model_name': model_list, \n",
    "                \"random_state\":rand_state, \n",
    "                'r2_train':r2_train_list, \n",
    "                'r2_test': r2_test_list\n",
    "            }\n",
    "pd.DataFrame(model_data).sort_values(by=[\"r2_test\"],ascending=False).reset_index(drop=True)"
   ]
  },
  {
   "attachments": {},
   "cell_type": "markdown",
   "metadata": {},
   "source": [
    "#### 2.4 Model Selection\n",
    "- From the above r2 score table, selecting **Linear Regressor** as model.\n",
    "- As difference between r2 score of train data & test data is less than **0.7**."
   ]
  },
  {
   "attachments": {},
   "cell_type": "markdown",
   "metadata": {},
   "source": [
    "#### 2.5 Checking Linear Regressor for another 1000 iteration for best random state"
   ]
  },
  {
   "cell_type": "code",
   "execution_count": 14,
   "metadata": {},
   "outputs": [],
   "source": [
    "rand_state_ = []\n",
    "r2_train_list_ =[]\n",
    "r2_test_list_ =[]\n",
    "\n",
    "for i in range(1000):\n",
    "    x_train, x_test, y_train, y_test = train_test_split(X,y,test_size=0.2,random_state=i)\n",
    "    \n",
    "    lr = LinearRegression()\n",
    "\n",
    "    lr.fit(x_train, y_train) # Train model\n",
    "\n",
    "    # Make predictions\n",
    "    y_train_pred = lr.predict(x_train)\n",
    "    y_test_pred = lr.predict(x_test)\n",
    "    \n",
    "    # Evaluate Train and Test dataset\n",
    "    model_train_r2 = r2_score(y_train, y_train_pred)\n",
    "\n",
    "    model_test_r2 = r2_score(y_test, y_test_pred)\n",
    "    \n",
    "    rand_state_.append(i)\n",
    "    r2_train_list_.append(round(model_train_r2, 4))\n",
    "    r2_test_list_.append(round(model_test_r2, 4))"
   ]
  },
  {
   "cell_type": "code",
   "execution_count": 15,
   "metadata": {},
   "outputs": [],
   "source": [
    "new_rand_state_ = []\n",
    "new_r2_train_list_ =[]\n",
    "new_r2_test_list_ =[]\n",
    "for k in range(len(rand_state_)):\n",
    "    if (abs(r2_train_list_[k] - r2_test_list_[k]) < 0.1) and (r2_test_list_[k] > 0.8):\n",
    "        new_rand_state_.append(rand_state_[k])\n",
    "        new_r2_train_list_.append(r2_train_list_[k])\n",
    "        new_r2_test_list_.append(r2_test_list_[k])\n",
    "\n",
    "lr_model_r2 = {\n",
    "                'rand_state':new_rand_state_, \n",
    "                'r2_train':new_r2_train_list_, \n",
    "                'r2_test':new_r2_test_list_,\n",
    "                }\n",
    "lr_model = pd.DataFrame(lr_model_r2).sort_values(by=['r2_test'], ascending=False).reset_index(drop=True)"
   ]
  },
  {
   "cell_type": "code",
   "execution_count": 16,
   "metadata": {},
   "outputs": [
    {
     "data": {
      "text/html": [
       "<div>\n",
       "<style scoped>\n",
       "    .dataframe tbody tr th:only-of-type {\n",
       "        vertical-align: middle;\n",
       "    }\n",
       "\n",
       "    .dataframe tbody tr th {\n",
       "        vertical-align: top;\n",
       "    }\n",
       "\n",
       "    .dataframe thead th {\n",
       "        text-align: right;\n",
       "    }\n",
       "</style>\n",
       "<table border=\"1\" class=\"dataframe\">\n",
       "  <thead>\n",
       "    <tr style=\"text-align: right;\">\n",
       "      <th></th>\n",
       "      <th>rand_state</th>\n",
       "      <th>r2_train</th>\n",
       "      <th>r2_test</th>\n",
       "      <th>difference</th>\n",
       "    </tr>\n",
       "  </thead>\n",
       "  <tbody>\n",
       "    <tr>\n",
       "      <th>0</th>\n",
       "      <td>686</td>\n",
       "      <td>0.9020</td>\n",
       "      <td>0.8567</td>\n",
       "      <td>0.0453</td>\n",
       "    </tr>\n",
       "    <tr>\n",
       "      <th>1</th>\n",
       "      <td>246</td>\n",
       "      <td>0.9133</td>\n",
       "      <td>0.8554</td>\n",
       "      <td>0.0579</td>\n",
       "    </tr>\n",
       "    <tr>\n",
       "      <th>2</th>\n",
       "      <td>124</td>\n",
       "      <td>0.9139</td>\n",
       "      <td>0.8549</td>\n",
       "      <td>0.0590</td>\n",
       "    </tr>\n",
       "    <tr>\n",
       "      <th>3</th>\n",
       "      <td>661</td>\n",
       "      <td>0.9138</td>\n",
       "      <td>0.8457</td>\n",
       "      <td>0.0681</td>\n",
       "    </tr>\n",
       "    <tr>\n",
       "      <th>4</th>\n",
       "      <td>172</td>\n",
       "      <td>0.9178</td>\n",
       "      <td>0.8401</td>\n",
       "      <td>0.0777</td>\n",
       "    </tr>\n",
       "    <tr>\n",
       "      <th>5</th>\n",
       "      <td>850</td>\n",
       "      <td>0.9151</td>\n",
       "      <td>0.8384</td>\n",
       "      <td>0.0767</td>\n",
       "    </tr>\n",
       "    <tr>\n",
       "      <th>6</th>\n",
       "      <td>528</td>\n",
       "      <td>0.9126</td>\n",
       "      <td>0.8331</td>\n",
       "      <td>0.0795</td>\n",
       "    </tr>\n",
       "    <tr>\n",
       "      <th>7</th>\n",
       "      <td>392</td>\n",
       "      <td>0.9155</td>\n",
       "      <td>0.8269</td>\n",
       "      <td>0.0886</td>\n",
       "    </tr>\n",
       "    <tr>\n",
       "      <th>8</th>\n",
       "      <td>248</td>\n",
       "      <td>0.9118</td>\n",
       "      <td>0.8266</td>\n",
       "      <td>0.0852</td>\n",
       "    </tr>\n",
       "    <tr>\n",
       "      <th>9</th>\n",
       "      <td>781</td>\n",
       "      <td>0.9197</td>\n",
       "      <td>0.8249</td>\n",
       "      <td>0.0948</td>\n",
       "    </tr>\n",
       "    <tr>\n",
       "      <th>10</th>\n",
       "      <td>48</td>\n",
       "      <td>0.9148</td>\n",
       "      <td>0.8244</td>\n",
       "      <td>0.0904</td>\n",
       "    </tr>\n",
       "    <tr>\n",
       "      <th>11</th>\n",
       "      <td>351</td>\n",
       "      <td>0.9188</td>\n",
       "      <td>0.8228</td>\n",
       "      <td>0.0960</td>\n",
       "    </tr>\n",
       "    <tr>\n",
       "      <th>12</th>\n",
       "      <td>431</td>\n",
       "      <td>0.9110</td>\n",
       "      <td>0.8185</td>\n",
       "      <td>0.0925</td>\n",
       "    </tr>\n",
       "    <tr>\n",
       "      <th>13</th>\n",
       "      <td>969</td>\n",
       "      <td>0.9134</td>\n",
       "      <td>0.8161</td>\n",
       "      <td>0.0973</td>\n",
       "    </tr>\n",
       "  </tbody>\n",
       "</table>\n",
       "</div>"
      ],
      "text/plain": [
       "    rand_state  r2_train  r2_test  difference\n",
       "0          686    0.9020   0.8567      0.0453\n",
       "1          246    0.9133   0.8554      0.0579\n",
       "2          124    0.9139   0.8549      0.0590\n",
       "3          661    0.9138   0.8457      0.0681\n",
       "4          172    0.9178   0.8401      0.0777\n",
       "5          850    0.9151   0.8384      0.0767\n",
       "6          528    0.9126   0.8331      0.0795\n",
       "7          392    0.9155   0.8269      0.0886\n",
       "8          248    0.9118   0.8266      0.0852\n",
       "9          781    0.9197   0.8249      0.0948\n",
       "10          48    0.9148   0.8244      0.0904\n",
       "11         351    0.9188   0.8228      0.0960\n",
       "12         431    0.9110   0.8185      0.0925\n",
       "13         969    0.9134   0.8161      0.0973"
      ]
     },
     "execution_count": 16,
     "metadata": {},
     "output_type": "execute_result"
    }
   ],
   "source": [
    "lr_model['difference'] = abs(lr_model['r2_train'] - lr_model['r2_test'])\n",
    "lr_model"
   ]
  },
  {
   "attachments": {},
   "cell_type": "markdown",
   "metadata": {},
   "source": [
    "#### 2.6 Selecting best random state\n",
    "- As from above, we are going to select **Linear Regression** model at **random state = 686**.\n"
   ]
  },
  {
   "attachments": {},
   "cell_type": "markdown",
   "metadata": {},
   "source": [
    "## 3. Model - Linear Regression"
   ]
  },
  {
   "attachments": {},
   "cell_type": "markdown",
   "metadata": {},
   "source": [
    "#### 3.1 Training Linear Regression Model"
   ]
  },
  {
   "cell_type": "code",
   "execution_count": 17,
   "metadata": {},
   "outputs": [
    {
     "name": "stdout",
     "output_type": "stream",
     "text": [
      "0.9019765092291767\n",
      "0.8567166059884388\n"
     ]
    }
   ],
   "source": [
    "x_train, x_test, y_train, y_test = train_test_split(X,y,test_size=0.2,random_state=686)\n",
    "lr = LinearRegression()\n",
    "lr.fit(x_train, y_train)\n",
    "\n",
    "# Make predictions\n",
    "y_train_pred = lr.predict(x_train)\n",
    "y_test_pred = lr.predict(x_test)\n",
    "\n",
    "# Evaluate Train and Test dataset\n",
    "print(r2_score(y_train, y_train_pred))\n",
    "print(r2_score(y_test, y_test_pred))"
   ]
  },
  {
   "attachments": {},
   "cell_type": "markdown",
   "metadata": {},
   "source": [
    "#### 3.2 Plot y_predicted vs y_test"
   ]
  },
  {
   "cell_type": "code",
   "execution_count": 18,
   "metadata": {},
   "outputs": [
    {
     "data": {
      "text/plain": [
       "Text(0, 0.5, 'Predicted')"
      ]
     },
     "execution_count": 18,
     "metadata": {},
     "output_type": "execute_result"
    },
    {
     "data": {
      "image/png": "[encoded data removed]",
      "text/plain": [
       "<Figure size 640x480 with 1 Axes>"
      ]
     },
     "metadata": {},
     "output_type": "display_data"
    }
   ],
   "source": [
    "plt.scatter(y_test, y_test_pred)\n",
    "plt.xlabel(\"Actual\")\n",
    "plt.ylabel(\"Predicted\")"
   ]
  },
  {
   "cell_type": "code",
   "execution_count": 19,
   "metadata": {},
   "outputs": [
    {
     "data": {
      "text/plain": [
       "<Axes: xlabel='Price'>"
      ]
     },
     "execution_count": 19,
     "metadata": {},
     "output_type": "execute_result"
    },
    {
     "data": {
      "image/png": "[encoded data removed]",
      "text/plain": [
       "<Figure size 640x480 with 1 Axes>"
      ]
     },
     "metadata": {},
     "output_type": "display_data"
    }
   ],
   "source": [
    "sns.regplot(x=y_test, y=y_test_pred, ci=None, color='red')"
   ]
  },
  {
   "attachments": {},
   "cell_type": "markdown",
   "metadata": {},
   "source": [
    "#### 3.3 Difference Between Actual & Predicted Values"
   ]
  },
  {
   "cell_type": "code",
   "execution_count": 20,
   "metadata": {},
   "outputs": [
    {
     "data": {
      "text/html": [
       "<div>\n",
       "<style scoped>\n",
       "    .dataframe tbody tr th:only-of-type {\n",
       "        vertical-align: middle;\n",
       "    }\n",
       "\n",
       "    .dataframe tbody tr th {\n",
       "        vertical-align: top;\n",
       "    }\n",
       "\n",
       "    .dataframe thead th {\n",
       "        text-align: right;\n",
       "    }\n",
       "</style>\n",
       "<table border=\"1\" class=\"dataframe\">\n",
       "  <thead>\n",
       "    <tr style=\"text-align: right;\">\n",
       "      <th></th>\n",
       "      <th>Actual Value</th>\n",
       "      <th>Predicted Value</th>\n",
       "      <th>Difference</th>\n",
       "    </tr>\n",
       "  </thead>\n",
       "  <tbody>\n",
       "    <tr>\n",
       "      <th>657</th>\n",
       "      <td>175000</td>\n",
       "      <td>3.931221e+05</td>\n",
       "      <td>-218122.101787</td>\n",
       "    </tr>\n",
       "    <tr>\n",
       "      <th>490</th>\n",
       "      <td>400000</td>\n",
       "      <td>4.286428e+05</td>\n",
       "      <td>-28642.758662</td>\n",
       "    </tr>\n",
       "    <tr>\n",
       "      <th>42</th>\n",
       "      <td>284999</td>\n",
       "      <td>4.689076e+05</td>\n",
       "      <td>-183908.606331</td>\n",
       "    </tr>\n",
       "    <tr>\n",
       "      <th>76</th>\n",
       "      <td>1891111</td>\n",
       "      <td>1.890926e+06</td>\n",
       "      <td>184.823658</td>\n",
       "    </tr>\n",
       "    <tr>\n",
       "      <th>166</th>\n",
       "      <td>209000</td>\n",
       "      <td>3.191734e+05</td>\n",
       "      <td>-110173.417226</td>\n",
       "    </tr>\n",
       "    <tr>\n",
       "      <th>...</th>\n",
       "      <td>...</td>\n",
       "      <td>...</td>\n",
       "      <td>...</td>\n",
       "    </tr>\n",
       "    <tr>\n",
       "      <th>160</th>\n",
       "      <td>145000</td>\n",
       "      <td>1.238073e+05</td>\n",
       "      <td>21192.657289</td>\n",
       "    </tr>\n",
       "    <tr>\n",
       "      <th>412</th>\n",
       "      <td>1500000</td>\n",
       "      <td>1.861436e+06</td>\n",
       "      <td>-361435.727820</td>\n",
       "    </tr>\n",
       "    <tr>\n",
       "      <th>631</th>\n",
       "      <td>475000</td>\n",
       "      <td>3.860523e+05</td>\n",
       "      <td>88947.749258</td>\n",
       "    </tr>\n",
       "    <tr>\n",
       "      <th>537</th>\n",
       "      <td>550000</td>\n",
       "      <td>6.079874e+05</td>\n",
       "      <td>-57987.366644</td>\n",
       "    </tr>\n",
       "    <tr>\n",
       "      <th>767</th>\n",
       "      <td>380000</td>\n",
       "      <td>5.793672e+05</td>\n",
       "      <td>-199367.236938</td>\n",
       "    </tr>\n",
       "  </tbody>\n",
       "</table>\n",
       "<p>163 rows × 3 columns</p>\n",
       "</div>"
      ],
      "text/plain": [
       "     Actual Value  Predicted Value     Difference\n",
       "657        175000     3.931221e+05 -218122.101787\n",
       "490        400000     4.286428e+05  -28642.758662\n",
       "42         284999     4.689076e+05 -183908.606331\n",
       "76        1891111     1.890926e+06     184.823658\n",
       "166        209000     3.191734e+05 -110173.417226\n",
       "..            ...              ...            ...\n",
       "160        145000     1.238073e+05   21192.657289\n",
       "412       1500000     1.861436e+06 -361435.727820\n",
       "631        475000     3.860523e+05   88947.749258\n",
       "537        550000     6.079874e+05  -57987.366644\n",
       "767        380000     5.793672e+05 -199367.236938\n",
       "\n",
       "[163 rows x 3 columns]"
      ]
     },
     "execution_count": 20,
     "metadata": {},
     "output_type": "execute_result"
    }
   ],
   "source": [
    "pd.DataFrame({'Actual Value':y_test, 'Predicted Value':y_test_pred, 'Difference':(y_test-y_test_pred)})"
   ]
  },
  {
   "attachments": {},
   "cell_type": "markdown",
   "metadata": {},
   "source": [
    "## 4. Saving Trained and Testd Model - Linear Regressor"
   ]
  },
  {
   "cell_type": "code",
   "execution_count": 21,
   "metadata": {},
   "outputs": [],
   "source": [
    "import pickle\n",
    "pickle.dump(lr, open(\"model/car_price_pred_Model.pkl\", 'wb'))"
   ]
  }
 ],
 "metadata": {
  "kernelspec": {
   "display_name": "Python 3",
   "language": "python",
   "name": "python3"
  },
  "language_info": {
   "codemirror_mode": {
    "name": "ipython",
    "version": 3
   },
   "file_extension": ".py",
   "mimetype": "text/x-python",
   "name": "python",
   "nbconvert_exporter": "python",
   "pygments_lexer": "ipython3",
   "version": "3.8.7"
  },
  "orig_nbformat": 4
 },
 "nbformat": 4,
 "nbformat_minor": 2
}
